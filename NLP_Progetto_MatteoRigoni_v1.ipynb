{
  "nbformat": 4,
  "nbformat_minor": 0,
  "metadata": {
    "colab": {
      "provenance": [],
      "authorship_tag": "ABX9TyOmOWh+Lg29GSt11efVYJBE",
      "include_colab_link": true
    },
    "kernelspec": {
      "name": "python3",
      "display_name": "Python 3"
    },
    "language_info": {
      "name": "python"
    }
  },
  "cells": [
    {
      "cell_type": "markdown",
      "metadata": {
        "id": "view-in-github",
        "colab_type": "text"
      },
      "source": [
        "<a href=\"https://colab.research.google.com/github/MatteoRigoni/MachineLearningPlayground/blob/master/NLP_Progetto_MatteoRigoni_v1.ipynb\" target=\"_parent\"><img src=\"https://colab.research.google.com/assets/colab-badge.svg\" alt=\"Open In Colab\"/></a>"
      ]
    },
    {
      "cell_type": "markdown",
      "source": [
        "#Definizione del progetto"
      ],
      "metadata": {
        "id": "ucAvp0YTdR6I"
      }
    },
    {
      "cell_type": "markdown",
      "source": [
        "L'azienda ProfessionAI vuole realizzare una libreria capace di fare analisi delle email ricevute.\n",
        "\n",
        "Nello specifico, il CEO ha richiesto di identificare le email di tipo SPAM sulle quali fare analisi contenutistiche.\n",
        "\n",
        "Il CTO nello specifico ti fornisce un dataset e ti chiede di:\n",
        "- Addestrare un classificatore per identificare SPAM\n",
        "- Individuare i Topic principali tra le email SPAM presenti nel dataset\n",
        "- Calcolare la distanza semantica tra i topics ottenuti, per dedurne l'eterogeneità.\n",
        "- Estrarre dalle mail NON SPAM le Organizzazioni presenti."
      ],
      "metadata": {
        "id": "9LNvOdQ0c5_t"
      }
    },
    {
      "cell_type": "code",
      "source": [
        "import numpy as np\n",
        "import pandas as pd\n",
        "from IPython.display import display, HTML\n",
        "\n",
        "RANDOM_SEED = 10"
      ],
      "metadata": {
        "id": "YPIdipFIdofv"
      },
      "execution_count": 1,
      "outputs": []
    },
    {
      "cell_type": "markdown",
      "source": [
        "#Analisi del dataset\n",
        "\n",
        "Si carica il dataset composto da 5171 esempi di mail e si fa una prima analisi sui dati.\n",
        "\n",
        "Per ogni record si ha un ID univoco, di cui non ci importa nell'addestramento del modello, inoltre label e label_num indicano la stessa cosa semplicemente in forma diversa (testuale e codificata), per cui teniamo solo la seconda colonna, dove 1=SPAM, 0=NON SPAM)\n",
        "\n",
        "La verifica sui campi non valorizzati dà esito positivo, quindi non servono operazioni per compensare.\n",
        "\n",
        "Si verifica la suddivisione delle due label (spam oppure non spam), c'è un rapporto di circa 2:1, nel caso non si raggiunga un risultato soddisfacente si proverà a bilanciare il dataset.\n",
        "\n",
        "Si ricavano inoltre delle statistiche sulle lunghezze dei corpi delle mail, che saranno poi utili nella fase di preprazione dei dati."
      ],
      "metadata": {
        "id": "J49gI3hih4Q-"
      }
    },
    {
      "cell_type": "code",
      "source": [
        "DATASET_URL = 'https://raw.githubusercontent.com/ProfAI/natural-language-processing/3f46b2e893c98c45b67d4f4d422aefbb19738286/datasets/Verifica%20Finale%20-%20Spam%20Detection/spam_dataset.csv'\n",
        "df = pd.read_csv(DATASET_URL, encoding='ISO-8859-1', sep=',')\n",
        "display(HTML(\"<h3><b>Sample rows from dataset:</b></h3>\"))\n",
        "print(df.head().to_string(max_colwidth=80))\n",
        "\n",
        "display(HTML(\"<h3><b>N/A values for each column:</b></h3>\"))\n",
        "print(df.isnull().sum())\n",
        "\n",
        "display(HTML(\"<h3><b>Labels distribution:</b></h3>\"))\n",
        "print(df['label'].value_counts())\n",
        "\n",
        "display(HTML(\"<h3><b>Stats about length of texts:</b></h3>\"))\n",
        "print(df['text'].apply(len).describe())\n",
        "\n",
        "df_optimized = df.drop(columns=['Unnamed: 0', 'label'])\n",
        "\n",
        "display(HTML(\"<h3><b>Sample rows from optimized dataset:</b></h3>\"))\n",
        "print(df_optimized.head().to_string(max_colwidth=80))"
      ],
      "metadata": {
        "colab": {
          "base_uri": "https://localhost:8080/",
          "height": 741
        },
        "id": "_YFWOG_kiYcS",
        "outputId": "921ec6d6-0b6b-478a-9594-3d4a18430bea"
      },
      "execution_count": 3,
      "outputs": [
        {
          "output_type": "display_data",
          "data": {
            "text/plain": [
              "<IPython.core.display.HTML object>"
            ],
            "text/html": [
              "<h3><b>Sample rows from dataset:</b></h3>"
            ]
          },
          "metadata": {}
        },
        {
          "output_type": "stream",
          "name": "stdout",
          "text": [
            "   Unnamed: 0 label                                                                             text  label_num\n",
            "0         605   ham  Subject: enron methanol ; meter # : 988291\\nthis is a follow up to the note ...          0\n",
            "1        2349   ham  Subject: hpl nom for january 9 , 2001\\n( see attached file : hplnol 09 . xls...          0\n",
            "2        3624   ham  Subject: neon retreat\\nho ho ho , we ' re around to that most wonderful time...          0\n",
            "3        4685  spam  Subject: photoshop , windows , office . cheap . main trending\\nabasements da...          1\n",
            "4        2030   ham  Subject: re : indian springs\\nthis deal is to book the teco pvr revenue . it...          0\n"
          ]
        },
        {
          "output_type": "display_data",
          "data": {
            "text/plain": [
              "<IPython.core.display.HTML object>"
            ],
            "text/html": [
              "<h3><b>N/A values for each column:</b></h3>"
            ]
          },
          "metadata": {}
        },
        {
          "output_type": "stream",
          "name": "stdout",
          "text": [
            "Unnamed: 0    0\n",
            "label         0\n",
            "text          0\n",
            "label_num     0\n",
            "dtype: int64\n"
          ]
        },
        {
          "output_type": "display_data",
          "data": {
            "text/plain": [
              "<IPython.core.display.HTML object>"
            ],
            "text/html": [
              "<h3><b>Labels distribution:</b></h3>"
            ]
          },
          "metadata": {}
        },
        {
          "output_type": "stream",
          "name": "stdout",
          "text": [
            "label\n",
            "ham     3672\n",
            "spam    1499\n",
            "Name: count, dtype: int64\n"
          ]
        },
        {
          "output_type": "display_data",
          "data": {
            "text/plain": [
              "<IPython.core.display.HTML object>"
            ],
            "text/html": [
              "<h3><b>Stats about length of texts:</b></h3>"
            ]
          },
          "metadata": {}
        },
        {
          "output_type": "stream",
          "name": "stdout",
          "text": [
            "count     5171.00000\n",
            "mean      1029.74531\n",
            "std       1505.10317\n",
            "min         10.00000\n",
            "25%        238.00000\n",
            "50%        529.00000\n",
            "75%       1214.00000\n",
            "max      31860.00000\n",
            "Name: text, dtype: float64\n"
          ]
        },
        {
          "output_type": "display_data",
          "data": {
            "text/plain": [
              "<IPython.core.display.HTML object>"
            ],
            "text/html": [
              "<h3><b>Sample rows from optimized dataset:</b></h3>"
            ]
          },
          "metadata": {}
        },
        {
          "output_type": "stream",
          "name": "stdout",
          "text": [
            "                                                                              text  label_num\n",
            "0  Subject: enron methanol ; meter # : 988291\\nthis is a follow up to the note ...          0\n",
            "1  Subject: hpl nom for january 9 , 2001\\n( see attached file : hplnol 09 . xls...          0\n",
            "2  Subject: neon retreat\\nho ho ho , we ' re around to that most wonderful time...          0\n",
            "3  Subject: photoshop , windows , office . cheap . main trending\\nabasements da...          1\n",
            "4  Subject: re : indian springs\\nthis deal is to book the teco pvr revenue . it...          0\n"
          ]
        }
      ]
    },
    {
      "cell_type": "markdown",
      "source": [
        "#Preprocessing del dataset\n",
        "\n",
        "In questo step si va a ripulire il campo relativo alla mail da caratteri e sequenze di stringhe non utili per capire se o meno spam, in modo da alleggerirlo, con benefici nella fase di training.\n",
        "\n",
        "Si fa la tokenizzazione, per suddividere le frasi in singole parole da dare in pasto alla fase di training. Su queste si effettua anche la lemmetizzazione, in modo tale da ricondurre le forme contratte o estese alla loro parola base.\n",
        "\n",
        "Si usa la metodologia TF-IDF per trasformare i tokeni in valore numerico.\n",
        "Questa tecnica tiene conto della frequenza della parola nei documenti per attribuirgli una determinata importanza.\n",
        "\n",
        "Infine si suddivide il dataset in train e test, usando lo stratify visto che il dataset è leggermente sbilanciato.\n",
        "\n",
        "Per la parte di pulizia del testo e tokenizzazione si usano le seguenti libereie:\n",
        "- [NLTK](https://www.nltk.org/#)\n",
        "- [SPACY](https://spacy.io/usage)\n",
        "- [RE](https://docs.python.org/3/library/re.html) per le espressioni REGEX\n",
        "\n",
        "Di seguito si scaricano alcuni pacchetti specifichi per la lingua del dataset (inglese)"
      ],
      "metadata": {
        "id": "3C75nnOVg8Rm"
      }
    },
    {
      "cell_type": "code",
      "source": [
        "from nltk.tokenize import word_tokenize\n",
        "from nltk.corpus import stopwords\n",
        "from nltk.stem import WordNetLemmatizer\n",
        "import nltk\n",
        "import spacy\n",
        "from gensim.models.ldamodel import LdaModel\n",
        "from gensim.corpora.dictionary import Dictionary\n",
        "import re\n",
        "from nltk.corpus import stopwords\n",
        "from nltk.stem import WordNetLemmatizer\n",
        "from nltk.tokenize import word_tokenize\n",
        "from sklearn.feature_extraction.text import TfidfVectorizer\n",
        "from sklearn.model_selection import train_test_split\n",
        "from sklearn.feature_extraction.text import CountVectorizer\n",
        "\n",
        "nltk.download('punkt')\n",
        "nltk.download('stopwords')\n",
        "nltk.download('wordnet')\n",
        "nlp = spacy.load('en_core_web_sm')"
      ],
      "metadata": {
        "colab": {
          "base_uri": "https://localhost:8080/"
        },
        "collapsed": true,
        "id": "rF1TmIwqoCt7",
        "outputId": "a129ad3b-61a2-450f-c13a-5150c03337b1"
      },
      "execution_count": 4,
      "outputs": [
        {
          "output_type": "stream",
          "name": "stderr",
          "text": [
            "[nltk_data] Downloading package punkt to /root/nltk_data...\n",
            "[nltk_data]   Package punkt is already up-to-date!\n",
            "[nltk_data] Downloading package stopwords to /root/nltk_data...\n",
            "[nltk_data]   Package stopwords is already up-to-date!\n",
            "[nltk_data] Downloading package wordnet to /root/nltk_data...\n",
            "[nltk_data]   Package wordnet is already up-to-date!\n",
            "/usr/local/lib/python3.10/dist-packages/transformers/utils/generic.py:441: UserWarning: torch.utils._pytree._register_pytree_node is deprecated. Please use torch.utils._pytree.register_pytree_node instead.\n",
            "  _torch_pytree._register_pytree_node(\n",
            "/usr/local/lib/python3.10/dist-packages/transformers/utils/generic.py:309: UserWarning: torch.utils._pytree._register_pytree_node is deprecated. Please use torch.utils._pytree.register_pytree_node instead.\n",
            "  _torch_pytree._register_pytree_node(\n"
          ]
        }
      ]
    },
    {
      "cell_type": "code",
      "source": [
        "def clean_text(text):\n",
        "    text = text.replace('Subject: ', '')  #rimozione parti fisse ripetute in ogni riga\n",
        "\n",
        "    text = re.sub(r'\\W', ' ', text) #punteggiatura, non importante al fine del processo di dected dello spam\n",
        "    text = re.sub(r'\\d+', '', text)  #numeri, non importanti al fine del processo di dected dello spam\n",
        "    text = text.lower()  #conversione del testo in minuscolo, al fine di semplificare il dato\n",
        "    text = re.sub(r'\\s+', ' ', text)  #rimozione spazi extra e 'a capo'\n",
        "    text = text.strip()  #trim del testo\n",
        "\n",
        "    return text"
      ],
      "metadata": {
        "id": "0ejxsNI8g-2f"
      },
      "execution_count": 5,
      "outputs": []
    },
    {
      "cell_type": "code",
      "source": [
        "def pre_process_text(text):\n",
        "    tokens = word_tokenize(text)\n",
        "    tokens = [lemmatizer.lemmatize(word) for word in tokens if word not in stop_words]\n",
        "    return ' '.join(tokens)"
      ],
      "metadata": {
        "id": "8Pmw9klGn-mY"
      },
      "execution_count": 6,
      "outputs": []
    },
    {
      "cell_type": "code",
      "source": [
        "df_optimized['cleaned_text'] = df_optimized['text'].apply(clean_text)\n",
        "\n",
        "display(HTML(\"<h3><b>Sample rows from optimized and cleaned dataset:</b></h3>\"))\n",
        "print(df_optimized.head().to_string(max_colwidth=80))"
      ],
      "metadata": {
        "colab": {
          "base_uri": "https://localhost:8080/",
          "height": 162
        },
        "id": "-wt5GaYUm_Bj",
        "outputId": "5c2c2403-be2e-4994-c825-5ad4b7297118"
      },
      "execution_count": 7,
      "outputs": [
        {
          "output_type": "display_data",
          "data": {
            "text/plain": [
              "<IPython.core.display.HTML object>"
            ],
            "text/html": [
              "<h3><b>Sample rows from optimized and cleaned dataset:</b></h3>"
            ]
          },
          "metadata": {}
        },
        {
          "output_type": "stream",
          "name": "stdout",
          "text": [
            "                                                                              text  label_num                                                                     cleaned_text\n",
            "0  Subject: enron methanol ; meter # : 988291\\nthis is a follow up to the note ...          0  enron methanol meter this is a follow up to the note i gave you on monday pr...\n",
            "1  Subject: hpl nom for january 9 , 2001\\n( see attached file : hplnol 09 . xls...          0                      hpl nom for january see attached file hplnol xls hplnol xls\n",
            "2  Subject: neon retreat\\nho ho ho , we ' re around to that most wonderful time...          0  neon retreat ho ho ho we re around to that most wonderful time of the year n...\n",
            "3  Subject: photoshop , windows , office . cheap . main trending\\nabasements da...          1  photoshop windows office cheap main trending abasements darer prudently fort...\n",
            "4  Subject: re : indian springs\\nthis deal is to book the teco pvr revenue . it...          0  re indian springs this deal is to book the teco pvr revenue it is my underst...\n"
          ]
        }
      ]
    },
    {
      "cell_type": "code",
      "source": [
        "stop_words = set(stopwords.words('english'))\n",
        "lemmatizer = WordNetLemmatizer()\n",
        "\n",
        "df_optimized['cleaned_text'] = df_optimized['cleaned_text'].apply(pre_process_text)\n",
        "\n",
        "display(HTML(\"<h3><b>Sample rows from optimized, cleaned and pre-processed dataset:</b></h3>\"))\n",
        "print(df_optimized.head().to_string(max_colwidth=80))"
      ],
      "metadata": {
        "colab": {
          "base_uri": "https://localhost:8080/",
          "height": 162
        },
        "id": "q-l6tMr8pWYc",
        "outputId": "adc31657-f5ea-48bb-a739-d01a6001d69d"
      },
      "execution_count": 8,
      "outputs": [
        {
          "output_type": "display_data",
          "data": {
            "text/plain": [
              "<IPython.core.display.HTML object>"
            ],
            "text/html": [
              "<h3><b>Sample rows from optimized, cleaned and pre-processed dataset:</b></h3>"
            ]
          },
          "metadata": {}
        },
        {
          "output_type": "stream",
          "name": "stdout",
          "text": [
            "                                                                              text  label_num                                                                     cleaned_text\n",
            "0  Subject: enron methanol ; meter # : 988291\\nthis is a follow up to the note ...          0  enron methanol meter follow note gave monday preliminary flow data provided ...\n",
            "1  Subject: hpl nom for january 9 , 2001\\n( see attached file : hplnol 09 . xls...          0                            hpl nom january see attached file hplnol xl hplnol xl\n",
            "2  Subject: neon retreat\\nho ho ho , we ' re around to that most wonderful time...          0  neon retreat ho ho ho around wonderful time year neon leader retreat time kn...\n",
            "3  Subject: photoshop , windows , office . cheap . main trending\\nabasements da...          1  photoshop window office cheap main trending abasement darer prudently fortui...\n",
            "4  Subject: re : indian springs\\nthis deal is to book the teco pvr revenue . it...          0  indian spring deal book teco pvr revenue understanding teco sends u check re...\n"
          ]
        }
      ]
    },
    {
      "cell_type": "code",
      "source": [
        "vectorizer = CountVectorizer()\n",
        "X_counts = vectorizer.fit_transform(df_optimized['cleaned_text'])\n",
        "unique_words = len(vectorizer.get_feature_names_out())\n",
        "\n",
        "print(\"\\nNumber of unique words in documents:\", unique_words)"
      ],
      "metadata": {
        "colab": {
          "base_uri": "https://localhost:8080/"
        },
        "id": "wUI7EKuZtBTT",
        "outputId": "a7cf5010-0f45-4094-af23-2c0c7fb92dde"
      },
      "execution_count": 9,
      "outputs": [
        {
          "output_type": "stream",
          "name": "stdout",
          "text": [
            "\n",
            "Number of unique words in documents: 43159\n"
          ]
        }
      ]
    },
    {
      "cell_type": "code",
      "source": [
        "tfidf = TfidfVectorizer(max_features=int(unique_words/5)) #si prova con questo valore iniziale, se il modello non si comporta bene, si prova a aumentarlo\n",
        "x = tfidf.fit_transform(df_optimized['cleaned_text']).toarray()\n",
        "y = df_optimized['label_num']"
      ],
      "metadata": {
        "id": "RC2MPjpZq1Mc"
      },
      "execution_count": 10,
      "outputs": []
    },
    {
      "cell_type": "code",
      "source": [
        "x_train, x_test, y_train, y_test = train_test_split(x, y, test_size=0.2, random_state=RANDOM_SEED, stratify=y)\n",
        "\n",
        "print(\"Training dataset's shape:\", x_train.shape)\n",
        "print(\"Test dataset's shape:\", x_test.shape)"
      ],
      "metadata": {
        "colab": {
          "base_uri": "https://localhost:8080/"
        },
        "id": "zGYqiYWtsAnF",
        "outputId": "2f1b9335-f02f-4bca-e988-c2bffd4702c4"
      },
      "execution_count": 11,
      "outputs": [
        {
          "output_type": "stream",
          "name": "stdout",
          "text": [
            "Training dataset's shape: (4136, 8631)\n",
            "Test dataset's shape: (1035, 8631)\n"
          ]
        }
      ]
    },
    {
      "cell_type": "markdown",
      "source": [
        "#Classificazione\n",
        "\n",
        "Si addestra ora un modello per identificare se il testo appartiene alla categoria SPAM oppure no.\n",
        "\n",
        "Si inizia da un semplice \"LogisticRegression\", che ottiene già ottimi risultati, con un accuracy del 99% e pochi falsi positivi/negativi.\n",
        "\n",
        "Tuttavia, visto che il dataset è piccolo e quindi la fase di training non è molto esosa, si prova anche con un modello \"SVM\" che ottiene degli score appena migliori, per cui si decide di tenere per buono questo modello."
      ],
      "metadata": {
        "id": "Z2fjpdVstkeJ"
      }
    },
    {
      "cell_type": "code",
      "source": [
        "from sklearn.linear_model import LogisticRegression\n",
        "from sklearn.metrics import accuracy_score, classification_report, confusion_matrix\n",
        "from sklearn.svm import SVC"
      ],
      "metadata": {
        "id": "JEDnHI66wqnR"
      },
      "execution_count": 12,
      "outputs": []
    },
    {
      "cell_type": "code",
      "source": [
        "log_reg = LogisticRegression()\n",
        "log_reg.fit(x_train, y_train)\n",
        "\n",
        "y_pred_log_reg = log_reg.predict(x_test)\n",
        "\n",
        "display(HTML(\"<h3><b>Logistic Regression</b></h3>\"))\n",
        "print('\\nAccuracy:', accuracy_score(y_test, y_pred_log_reg))\n",
        "print('\\nConfusion matrix:\\n', confusion_matrix(y_test, y_pred_log_reg))\n",
        "print('\\nClassification report:\\n', classification_report(y_test, y_pred_log_reg))\n",
        "print('-------------------------------------------------------------------------------\\n')"
      ],
      "metadata": {
        "colab": {
          "base_uri": "https://localhost:8080/",
          "height": 388
        },
        "id": "Sx2p_SbBxA6C",
        "outputId": "d735f76d-2f84-4387-876a-152e64182e64"
      },
      "execution_count": 13,
      "outputs": [
        {
          "output_type": "display_data",
          "data": {
            "text/plain": [
              "<IPython.core.display.HTML object>"
            ],
            "text/html": [
              "<h3><b>Logistic Regression</b></h3>"
            ]
          },
          "metadata": {}
        },
        {
          "output_type": "stream",
          "name": "stdout",
          "text": [
            "\n",
            "Accuracy: 0.9903381642512077\n",
            "\n",
            "Confusion matrix:\n",
            " [[726   9]\n",
            " [  1 299]]\n",
            "\n",
            "Classification report:\n",
            "               precision    recall  f1-score   support\n",
            "\n",
            "           0       1.00      0.99      0.99       735\n",
            "           1       0.97      1.00      0.98       300\n",
            "\n",
            "    accuracy                           0.99      1035\n",
            "   macro avg       0.98      0.99      0.99      1035\n",
            "weighted avg       0.99      0.99      0.99      1035\n",
            "\n",
            "-------------------------------------------------------------------------------\n",
            "\n"
          ]
        }
      ]
    },
    {
      "cell_type": "code",
      "source": [
        "svm = SVC(kernel='linear')\n",
        "svm.fit(x_train, y_train)\n",
        "y_pred_svm = svm.predict(x_test)\n",
        "\n",
        "display(HTML(\"<h3><b>SVM with linear kernel</b></h3>\"))\n",
        "print('\\nAccuracy:', accuracy_score(y_test, y_pred_svm))\n",
        "print('\\nConfusion matrix:\\n', confusion_matrix(y_test, y_pred_svm))\n",
        "print('\\nClassification report:\\n', classification_report(y_test, y_pred_svm))\n",
        "print('-------------------------------------------------------------------------------\\n')"
      ],
      "metadata": {
        "colab": {
          "base_uri": "https://localhost:8080/",
          "height": 388
        },
        "id": "ROP9hBQ2x-F3",
        "outputId": "19b7a595-f6d2-4834-b29f-d38d1618dcb2"
      },
      "execution_count": 14,
      "outputs": [
        {
          "output_type": "display_data",
          "data": {
            "text/plain": [
              "<IPython.core.display.HTML object>"
            ],
            "text/html": [
              "<h3><b>SVM with linear kernel</b></h3>"
            ]
          },
          "metadata": {}
        },
        {
          "output_type": "stream",
          "name": "stdout",
          "text": [
            "\n",
            "Accuracy: 0.991304347826087\n",
            "\n",
            "Confusion matrix:\n",
            " [[728   7]\n",
            " [  2 298]]\n",
            "\n",
            "Classification report:\n",
            "               precision    recall  f1-score   support\n",
            "\n",
            "           0       1.00      0.99      0.99       735\n",
            "           1       0.98      0.99      0.99       300\n",
            "\n",
            "    accuracy                           0.99      1035\n",
            "   macro avg       0.99      0.99      0.99      1035\n",
            "weighted avg       0.99      0.99      0.99      1035\n",
            "\n",
            "-------------------------------------------------------------------------------\n",
            "\n"
          ]
        }
      ]
    },
    {
      "cell_type": "markdown",
      "source": [
        "#Topic Modelling dello SPAM\n",
        "\n",
        "Per l'identificazione dei principali argomenti nelle mail di spam si una l'agoritmo [LDA](https://techblog.smc.it/it/2021-10-22/topic-modelling)\n",
        "\n",
        "Si aggiunge un ulteriore colonna 'cleaned_text_topic' dove si rimuovono anche alcuni termini legati al markup HTML emersi durante l'analisi dei topic.\n",
        "Non si è trovato un modo empirico per farlo, per cui si è andati in maniera progressiva a scremare le parole non significative che emergevano dai topic, oltre a escludere l'analisi su parole con meno di 3 caratteri, che hanno poca valenza semantica. Questo non si fa sul dataset originale, in quanto potrebbero essere invece utili nel distinguere 'SPAM' da 'NON SPAM'\n",
        "\n",
        "Una volta pulito il dataset, si procede alla tokenizzazione e creazione di un dizionario per associare ogni termine a un id univoco.\n",
        "\n",
        "Al termine del processing col modello LDA, si stampano i topic, per ognuno sono mostrate le parole chiave associate al relativo peso."
      ],
      "metadata": {
        "id": "flFNxfjP0k0m"
      }
    },
    {
      "cell_type": "code",
      "source": [
        "from nltk.tokenize import word_tokenize\n",
        "from gensim.corpora.dictionary import Dictionary\n",
        "from gensim.models.ldamodel import LdaModel\n",
        "from bs4 import BeautifulSoup"
      ],
      "metadata": {
        "id": "q0Q8Ba3R1Qnc"
      },
      "execution_count": 15,
      "outputs": []
    },
    {
      "cell_type": "code",
      "source": [
        "extra_stopwords = ['size', 'width', 'face', 'darial', 'fontfont', 'bgcolor', 'color', 'index', 'image', 'border', 'family' 'color', 'http', 'font', 'height', 'nbsp', 'html', 'body', 'href', 'style', 'click', 'table', 'align', 'valign', 'center','strong', 'span']"
      ],
      "metadata": {
        "id": "ioj7EgKwFAGu"
      },
      "execution_count": 16,
      "outputs": []
    },
    {
      "cell_type": "code",
      "source": [
        "spam_texts = df_optimized[df_optimized['label_num'] == 1]['cleaned_text']\n",
        "display(HTML(\"<h3><b>Sample rows of SPAM records:</b></h3>\"))\n",
        "print(spam_texts.head())"
      ],
      "metadata": {
        "colab": {
          "base_uri": "https://localhost:8080/",
          "height": 162
        },
        "id": "eEyONhYD0wU0",
        "outputId": "f34f1a21-cef1-408c-847c-199992bb10f7"
      },
      "execution_count": 17,
      "outputs": [
        {
          "output_type": "display_data",
          "data": {
            "text/plain": [
              "<IPython.core.display.HTML object>"
            ],
            "text/html": [
              "<h3><b>Sample rows of SPAM records:</b></h3>"
            ]
          },
          "metadata": {}
        },
        {
          "output_type": "stream",
          "name": "stdout",
          "text": [
            "3     photoshop window office cheap main trending ab...\n",
            "7     looking medication best source difficult make ...\n",
            "10    vocable rnd word asceticism vcsc brand new sto...\n",
            "11    report wffur attion brom est inst siupied pgst...\n",
            "13    vic odin n ow berne hotbox carnal bride cutwor...\n",
            "Name: cleaned_text, dtype: object\n"
          ]
        }
      ]
    },
    {
      "cell_type": "code",
      "source": [
        "spam_tokens = [[word for word in word_tokenize(text) if word.strip().lower() not in extra_stopwords and len(word) > 3]   for text in spam_texts]\n",
        "dictionary = Dictionary(spam_tokens)\n",
        "corpus = [dictionary.doc2bow(text) for text in spam_tokens]\n",
        "\n",
        "print(\"Dictionary:\", dictionary)\n",
        "print(\"Sample corpus (list of word_id + word_frequency inside document):\", corpus[:1])"
      ],
      "metadata": {
        "colab": {
          "base_uri": "https://localhost:8080/"
        },
        "id": "emGaiOro1Svc",
        "outputId": "53a429a9-0a3b-47e3-cad2-be26709176a5"
      },
      "execution_count": 18,
      "outputs": [
        {
          "output_type": "stream",
          "name": "stdout",
          "text": [
            "Dictionary: Dictionary<32645 unique tokens: ['abasement', 'academy', 'affluent', 'badness', 'bayda']...>\n",
            "Sample corpus (list of word_id + word_frequency inside document): [[(0, 1), (1, 1), (2, 1), (3, 1), (4, 1), (5, 1), (6, 1), (7, 1), (8, 1), (9, 1), (10, 1), (11, 1), (12, 1), (13, 1), (14, 1), (15, 1), (16, 1), (17, 1), (18, 1), (19, 1), (20, 1), (21, 1), (22, 1), (23, 1), (24, 1), (25, 1), (26, 1), (27, 1), (28, 1), (29, 1), (30, 1), (31, 1), (32, 1), (33, 1), (34, 1), (35, 1), (36, 1), (37, 1), (38, 1), (39, 1), (40, 1), (41, 1), (42, 1)]]\n"
          ]
        }
      ]
    },
    {
      "cell_type": "code",
      "source": [
        "NUM_TOPICS = 5 #numero dei principali topic che ci interessa analizzare\n",
        "NUM_WORDS_FOR_EACH_TOPIC = 5 #numero parole chiave che contribuiscono al topic\n",
        "\n",
        "lda_model = LdaModel(corpus=corpus, num_topics=NUM_TOPICS, passes=15, id2word=dictionary, random_state=RANDOM_SEED)\n",
        "topics = lda_model.print_topics(num_words=NUM_WORDS_FOR_EACH_TOPIC)\n",
        "\n",
        "for idx, topic in topics:\n",
        "    print(f'{idx+1}° topic : {topic}')"
      ],
      "metadata": {
        "colab": {
          "base_uri": "https://localhost:8080/"
        },
        "id": "84byCeCd14kp",
        "outputId": "5b1daf50-6b77-45e6-a7d5-c9f8be287065"
      },
      "execution_count": 19,
      "outputs": [
        {
          "output_type": "stream",
          "name": "stdout",
          "text": [
            "1° topic : 0.003*\"moopid\" + 0.003*\"hotlist\" + 0.003*\"money\" + 0.002*\"fund\" + 0.002*\"want\"\n",
            "2° topic : 0.014*\"company\" + 0.008*\"statement\" + 0.007*\"stock\" + 0.007*\"information\" + 0.006*\"security\"\n",
            "3° topic : 0.011*\"pill\" + 0.005*\"viagra\" + 0.004*\"cialis\" + 0.004*\"time\" + 0.004*\"prescription\"\n",
            "4° topic : 0.003*\"number\" + 0.003*\"claim\" + 0.002*\"prize\" + 0.002*\"program\" + 0.002*\"international\"\n",
            "5° topic : 0.009*\"price\" + 0.007*\"computron\" + 0.006*\"window\" + 0.005*\"microsoft\" + 0.005*\"message\"\n"
          ]
        }
      ]
    },
    {
      "cell_type": "markdown",
      "source": [
        "I topic di spam ottenuti sono sensati:\n",
        "- il 1° sembra legato a questo sito di spam \"www.moopid.com\", ricorrente nel dataset nella categoria SPAM\n",
        "- il 2° pare legato a tematiche aziendali e finanziarie\n",
        "- il 3° sembra legato a tematiche di farmaci specici per uomini\n",
        "- il 4°, vedendo degli esempi nel dataset, sembra correlato a offerte di prodotti, anche se è piuttosto generico come parole chiave\n",
        "- il 5° pare legato a offerte di vendita PC, inerenti un'ipotetica azienda 'Computron' (www . computron - me . com), dove 'window' è la versione contratta di 'Windows'. Il termine 'Computron' è molto ricorrente nel dataset, con 242 occorrenze."
      ],
      "metadata": {
        "id": "efLR95tj-A7O"
      }
    },
    {
      "cell_type": "markdown",
      "source": [
        "#Distanza semantica tra i topic di SPAM\n",
        "\n",
        "Lo scopo è capire quanto sono assimilabili i topic di SPAM identificativi. La tecnica utilizzata è basata sulla distanza del coseno, che misura l'angolo tra due vettori, quindi più l'angolo è vicino allo zero, maggiore sarà la similarità degli argomenti.\n",
        "\n",
        "Si disegna poi una matrice per vedere meglio la relazione tra i topic.\n",
        "\n",
        "Si evince che tutti i topic hanno tra loro una distanza compresa tra 0.58 e 0.78, quindi possono essere considerati piuttosto slegati tra loro. Se ci fossero stati valori prossimi allo zero, si sarebbe potuto valutare di aggregarli in quanto molto simili."
      ],
      "metadata": {
        "id": "6odrTAWaBhrR"
      }
    },
    {
      "cell_type": "code",
      "source": [
        "from sklearn.metrics.pairwise import cosine_distances\n",
        "import matplotlib.pyplot as plt\n",
        "import seaborn as sns"
      ],
      "metadata": {
        "id": "PG5wiXUsIS0j"
      },
      "execution_count": 20,
      "outputs": []
    },
    {
      "cell_type": "code",
      "source": [
        "topic_vectors = lda_model.get_topics()\n",
        "cosine_dist_matrix = cosine_distances(topic_vectors)\n",
        "\n",
        "display(HTML(\"<h3><b>Distance matrix:</b></h3>\"))\n",
        "print(cosine_dist_matrix)"
      ],
      "metadata": {
        "colab": {
          "base_uri": "https://localhost:8080/",
          "height": 144
        },
        "id": "GG1_y-pPIWYH",
        "outputId": "766556fa-c798-4bd7-b82e-4f39ab99d438"
      },
      "execution_count": 21,
      "outputs": [
        {
          "output_type": "display_data",
          "data": {
            "text/plain": [
              "<IPython.core.display.HTML object>"
            ],
            "text/html": [
              "<h3><b>Distance matrix:</b></h3>"
            ]
          },
          "metadata": {}
        },
        {
          "output_type": "stream",
          "name": "stdout",
          "text": [
            "[[0.         0.7489922  0.7146584  0.7060684  0.7763693 ]\n",
            " [0.7489922  0.         0.69362754 0.5821574  0.69738454]\n",
            " [0.7146584  0.69362754 0.         0.69584024 0.6191783 ]\n",
            " [0.7060684  0.5821574  0.69584024 0.         0.70292556]\n",
            " [0.7763693  0.69738454 0.6191783  0.70292556 0.        ]]\n"
          ]
        }
      ]
    },
    {
      "cell_type": "code",
      "source": [
        "plt.figure(figsize=(8, 5))\n",
        "sns.heatmap(cosine_dist_matrix, annot=True, cmap=\"YlGnBu\", xticklabels=[f\"{i+1}° topic\" for i in range(NUM_TOPICS)], yticklabels=[f\"{i+1}° topic\" for i in range(NUM_TOPICS)])\n",
        "plt.title(\"Cosine Distance between Topics\")\n",
        "plt.show()"
      ],
      "metadata": {
        "colab": {
          "base_uri": "https://localhost:8080/",
          "height": 468
        },
        "id": "JgbNAiDgKrsn",
        "outputId": "ba062613-f943-4027-a5c2-c77c855206b8"
      },
      "execution_count": 22,
      "outputs": [
        {
          "output_type": "display_data",
          "data": {
            "text/plain": [
              "<Figure size 800x500 with 2 Axes>"
            ],
            "image/png": "[encoded data removed]"
          },
          "metadata": {}
        }
      ]
    },
    {
      "cell_type": "markdown",
      "source": [
        "#Riconoscimento delle Organizzazioni nelle mail ufficiali\n",
        "\n",
        "In questa fase si sfrutta sempre la libreria SPACY per effettuare il NER, ovvero il processo di estrazioni di nomi di 'entità'.\n",
        "\n",
        "> Fonte: [SpaCy NER](https://spacy.io/universe/project/video-spacys-ner-model-alt)\n",
        "\n",
        "Dopo l'estrazione si accorpano tutti i valori e si stampano alcuni valori per capire la qualità dell'analisi.\n",
        "\n",
        "Il risultato non è ottimale e sembra riportare tanti falsi positivi, si è provato usando anche un model più esteso come \"en_core_web_lg\" senza ottenere però miglioramenti significativi."
      ],
      "metadata": {
        "id": "-T2HgojEMpZp"
      }
    },
    {
      "cell_type": "code",
      "source": [
        "import spacy\n",
        "nlp = spacy.load(\"en_core_web_sm\")"
      ],
      "metadata": {
        "id": "PEpUbVr0M3iU"
      },
      "execution_count": 23,
      "outputs": []
    },
    {
      "cell_type": "code",
      "source": [
        "def extract_organizations(text):\n",
        "    doc = nlp(text)\n",
        "    organizations = [ent.text for ent in doc.ents if ent.label_ == \"ORG\"]\n",
        "    return organizations"
      ],
      "metadata": {
        "id": "mhXwX0_3NA_W"
      },
      "execution_count": 24,
      "outputs": []
    },
    {
      "cell_type": "code",
      "source": [
        "not_spam_emails = df_optimized[df_optimized['label_num'] == 0]['cleaned_text']\n",
        "df_optimized['orgs'] = not_spam_emails.apply(extract_organizations)\n",
        "display(HTML(\"<h3><b>Sample organizations with 'en_core_web_sm':</b></h3>\"))\n",
        "print(df_optimized[['text', 'orgs']].head())"
      ],
      "metadata": {
        "colab": {
          "base_uri": "https://localhost:8080/",
          "height": 162
        },
        "id": "wUnPP1nQM58e",
        "outputId": "b98754ce-0797-4551-9207-de53fe582c81"
      },
      "execution_count": 25,
      "outputs": [
        {
          "output_type": "display_data",
          "data": {
            "text/plain": [
              "<IPython.core.display.HTML object>"
            ],
            "text/html": [
              "<h3><b>Sample organizations with 'en_core_web_sm':</b></h3>"
            ]
          },
          "metadata": {}
        },
        {
          "output_type": "stream",
          "name": "stdout",
          "text": [
            "                                                text                    orgs\n",
            "0  Subject: enron methanol ; meter # : 988291\\nth...  [enron methanol meter]\n",
            "1  Subject: hpl nom for january 9 , 2001\\n( see a...                      []\n",
            "2  Subject: neon retreat\\nho ho ho , we ' re arou...          [shop antique]\n",
            "3  Subject: photoshop , windows , office . cheap ...                     NaN\n",
            "4  Subject: re : indian springs\\nthis deal is to ...                      []\n"
          ]
        }
      ]
    },
    {
      "cell_type": "code",
      "source": [
        "unique_organizations = set()\n",
        "\n",
        "for orgs in df_optimized['orgs'].dropna():\n",
        "    unique_organizations.update(orgs)\n",
        "\n",
        "display(HTML(\"<h3><b>Unique sample organizations fetched:</b></h3>\"))\n",
        "for org in list(unique_organizations)[:20]:\n",
        "  print(org)"
      ],
      "metadata": {
        "colab": {
          "base_uri": "https://localhost:8080/",
          "height": 405
        },
        "id": "u_edTRksX0HI",
        "outputId": "a148764e-8251-49a9-f66d-de941bc90607"
      },
      "execution_count": 26,
      "outputs": [
        {
          "output_type": "display_data",
          "data": {
            "text/plain": [
              "<IPython.core.display.HTML object>"
            ],
            "text/html": [
              "<h3><b>Unique sample organizations fetched:</b></h3>"
            ]
          },
          "metadata": {}
        },
        {
          "output_type": "stream",
          "name": "stdout",
          "text": [
            "ami chokshi corp enron dscottl\n",
            "texas eastern\n",
            "enron capital trade resource corp evelyn\n",
            "michelle leblanc corp tax ling li\n",
            "exxon vance deal created\n",
            "jeff johnson corp enron enron\n",
            "mgi\n",
            "enron corp\n",
            "detroit phc\n",
            "rank communication getting imput\n",
            "el paso merchant energy pgev\n",
            "eb common data corp environment\n",
            "school university texas\n",
            "slum house\n",
            "needville\n",
            "tri union development corp jan\n",
            "petroleum apache corp barrett resource crosstex\n",
            "morgan point\n",
            "enron medical network\n",
            "subject fw energy service\n"
          ]
        }
      ]
    }
  ]
}