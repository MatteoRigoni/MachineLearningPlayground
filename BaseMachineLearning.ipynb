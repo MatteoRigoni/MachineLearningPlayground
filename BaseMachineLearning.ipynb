{
  "nbformat": 4,
  "nbformat_minor": 0,
  "metadata": {
    "colab": {
      "provenance": [],
      "mount_file_id": "1m26j6sVUnDJ5ADTF-6IYjVmRlJ8saxbY",
      "authorship_tag": "ABX9TyMlZSvIYPPKXYZKdeTlCTfj",
      "include_colab_link": true
    },
    "kernelspec": {
      "name": "python3",
      "display_name": "Python 3"
    },
    "language_info": {
      "name": "python"
    }
  },
  "cells": [
    {
      "cell_type": "markdown",
      "metadata": {
        "id": "view-in-github",
        "colab_type": "text"
      },
      "source": [
        "<a href=\"https://colab.research.google.com/github/MatteoRigoni/MachineLearningPlayground/blob/master/BaseMachineLearning.ipynb\" target=\"_parent\"><img src=\"https://colab.research.google.com/assets/colab-badge.svg\" alt=\"Open In Colab\"/></a>"
      ]
    },
    {
      "cell_type": "markdown",
      "source": [
        "##Tecniche machine learning\n",
        "\n",
        "> Apprendimento supervisionato (abbiamo input e output)\n",
        "*  Regressione (l'output è un valore continuo, una quantità)\n",
        "*  Classificazione (l'output è un valore discreto)\n",
        "\n",
        "> Apprendimento non supervisionato (abbiamo solo input)\n",
        "*  Associations (trovare regole che descrivono una porzione grande di dati)\n",
        "*  Clustering (si raggruppano i dati per proprietà comuni)\n",
        "\n",
        "> Apprendimento semi-supervisionato\n",
        "*  Utilizzo di molti esempi senza label e pochi esempi con label\n",
        "\n",
        "> Apprendimento per rinforzo\n",
        "*  Si basa sulla realizzazione di **agenti intelligenti** in grado di prendere decisioni ed eseguire **azioni** in uno specifico **ambiente** al fine di massimizzare un **reward** e raggiungere un **obiettivo**\n"
      ],
      "metadata": {
        "id": "OHUHm3PJtHZK"
      }
    },
    {
      "cell_type": "markdown",
      "source": [
        "## Dataset"
      ],
      "metadata": {
        "id": "5G9Rv9echgLJ"
      }
    },
    {
      "cell_type": "code",
      "source": [
        "import pandas as pd"
      ],
      "metadata": {
        "id": "tDif3uLChfDx"
      },
      "execution_count": null,
      "outputs": []
    },
    {
      "cell_type": "code",
      "source": [
        "BASE_URL = \"https://raw.githubusercontent.com/ProfAI/machine-learning-fondamenti/main/datasets/\""
      ],
      "metadata": {
        "id": "-INJd2WSkzus"
      },
      "execution_count": null,
      "outputs": []
    },
    {
      "cell_type": "markdown",
      "source": [
        "*csv con indicazione colonna indice*\n",
        "\n"
      ],
      "metadata": {
        "id": "kio8TbeVon7m"
      }
    },
    {
      "cell_type": "code",
      "source": [
        "df = pd.read_csv(BASE_URL + \"shirts_example.csv\", index_col=0)\n",
        "df.head()"
      ],
      "metadata": {
        "id": "P8oJBZjwl8y0"
      },
      "execution_count": null,
      "outputs": []
    },
    {
      "cell_type": "markdown",
      "source": [
        "*tsv con indicazione colonna indice*"
      ],
      "metadata": {
        "id": "Xc6rLMgLpL71"
      }
    },
    {
      "cell_type": "code",
      "source": [
        "df = pd.read_csv(BASE_URL + \"shirts_example.tsv\", index_col=0, sep=\"\\t\")\n",
        "df.head()"
      ],
      "metadata": {
        "id": "MTHhdHwBlAN1"
      },
      "execution_count": null,
      "outputs": []
    },
    {
      "cell_type": "markdown",
      "source": [
        "*json strutturato in formato tabellare*"
      ],
      "metadata": {
        "id": "wg8hAv0QpR5j"
      }
    },
    {
      "cell_type": "code",
      "source": [
        "df = pd.read_json(BASE_URL + \"shirts_example.json\")\n",
        "df.head(10)"
      ],
      "metadata": {
        "id": "dvdVx70Qmc1F"
      },
      "execution_count": null,
      "outputs": []
    },
    {
      "cell_type": "markdown",
      "source": [
        "*xml con elementi \"row\" indicati esplicitamente*"
      ],
      "metadata": {
        "id": "78WG-TIspStR"
      }
    },
    {
      "cell_type": "code",
      "source": [
        "df = pd.read_xml(BASE_URL + \"shirts_example.xml\", xpath='.//row')\n",
        "df.head()"
      ],
      "metadata": {
        "id": "cRMqAOwbm-P_"
      },
      "execution_count": null,
      "outputs": []
    },
    {
      "cell_type": "markdown",
      "source": [
        "*html con unica table con indicazione indice e riga di header*"
      ],
      "metadata": {
        "id": "uZsYOPFCpTIL"
      }
    },
    {
      "cell_type": "code",
      "source": [
        "df = pd.read_html(BASE_URL + \"shirts_example.html\", index_col=0, header = 0)\n",
        "type(df) # lista di tutte le tabelle\n",
        "type(df[0])\n",
        "df[0].head()"
      ],
      "metadata": {
        "id": "l8aGDG9ioYm7"
      },
      "execution_count": null,
      "outputs": []
    },
    {
      "cell_type": "markdown",
      "source": [
        "*excel office oppure openoffice*"
      ],
      "metadata": {
        "id": "4ikr1iicqJ9V"
      }
    },
    {
      "cell_type": "code",
      "source": [
        "pip install odfpy"
      ],
      "metadata": {
        "id": "0rjNDOjRq2UN"
      },
      "execution_count": null,
      "outputs": []
    },
    {
      "cell_type": "code",
      "source": [
        "df = pd.read_excel(BASE_URL + \"shirts_example.ods\", index_col=0) #header=None per non usare prima riga come header\n",
        "df.head()"
      ],
      "metadata": {
        "id": "ZHdw_4i5qMFN"
      },
      "execution_count": null,
      "outputs": []
    },
    {
      "cell_type": "markdown",
      "source": [
        "## Data Preprocessing"
      ],
      "metadata": {
        "id": "R5qr-t-hrcn0"
      }
    },
    {
      "cell_type": "code",
      "source": [
        "import pandas as pd\n",
        "import numpy as np"
      ],
      "metadata": {
        "id": "9E_ew0lN0ZcK"
      },
      "execution_count": null,
      "outputs": []
    },
    {
      "cell_type": "code",
      "source": [
        "BASE_URL = \"https://raw.githubusercontent.com/ProfAI/machine-learning-fondamenti/main/datasets/\""
      ],
      "metadata": {
        "id": "27HEtfYx0ihz"
      },
      "execution_count": null,
      "outputs": []
    },
    {
      "cell_type": "markdown",
      "source": [
        "*Ordinal encoding su variabile qualitativa*\n",
        "\n",
        "Assegnazione di valore numero ordinato da 1"
      ],
      "metadata": {
        "id": "A-B4vmp_quo6"
      }
    },
    {
      "cell_type": "markdown",
      "source": [
        "*  pandas"
      ],
      "metadata": {
        "id": "6ygpdi4C3z43"
      }
    },
    {
      "cell_type": "code",
      "source": [
        "df = pd.read_csv(BASE_URL+\"shirts.csv\", index_col=0)\n",
        "\n",
        "size_mapping = {\"S\":1, \"M\":2, \"L\":3, \"XL\":4}\n",
        "type(df[\"taglia\"] ) #series of dataframe\n",
        "df[\"taglia\"] = df[\"taglia\"].map(size_mapping)\n",
        "df.head()"
      ],
      "metadata": {
        "id": "OeDl-wIl0-D3"
      },
      "execution_count": null,
      "outputs": []
    },
    {
      "cell_type": "markdown",
      "source": [
        "*  numpy"
      ],
      "metadata": {
        "id": "cTLkpK794CD1"
      }
    },
    {
      "cell_type": "code",
      "source": [
        "df = pd.read_csv(BASE_URL+\"shirts.csv\", index_col=0)\n",
        "\n",
        "X = df.values #array numpy multidimensionale (100x3)\n",
        "X.shape\n",
        "\n",
        "size_mapping = {\"S\":1, \"M\":2, \"L\":3, \"XL\":4}\n",
        "fmap = np.vectorize(lambda t:size_mapping[t]) #funzione vettorizzata da applicare ad array numpy\n",
        "X[:,0] = fmap(X[:,0])\n",
        "X[:5,:]"
      ],
      "metadata": {
        "id": "5bxeOvu12RZw"
      },
      "execution_count": null,
      "outputs": []
    },
    {
      "cell_type": "markdown",
      "source": [
        "*One hot encoding su variabili categoriche*\n",
        "\n",
        "Aggiunta di colonna true/false per ogni possibile valore"
      ],
      "metadata": {
        "id": "MraNbxuw4OJz"
      }
    },
    {
      "cell_type": "markdown",
      "source": [
        "*  pandas"
      ],
      "metadata": {
        "id": "PHAaihks4zAw"
      }
    },
    {
      "cell_type": "code",
      "source": [
        "df = pd.read_csv(BASE_URL+\"shirts.csv\", index_col=0)\n",
        "\n",
        "df = pd.get_dummies(df, columns=[\"colore\"], prefix=\"color\", prefix_sep=\"-\") # \"nomeColonnaOriginale_Classe\" di default\n",
        "df.head()"
      ],
      "metadata": {
        "id": "E5Q8CPeo4UFw"
      },
      "execution_count": null,
      "outputs": []
    },
    {
      "cell_type": "markdown",
      "source": [
        "*  numpy con scikit-learn"
      ],
      "metadata": {
        "id": "n1-ZK30H4zrb"
      }
    },
    {
      "cell_type": "code",
      "source": [
        "from sklearn.preprocessing import OneHotEncoder\n",
        "from sklearn.compose import ColumnTransformer\n",
        "\n",
        "df = pd.read_csv(BASE_URL+\"shirts.csv\", index_col=0)\n",
        "\n",
        "X = df.values #array numpy multidimensionale (100x3)\n",
        "X.shape\n",
        "\n",
        "transf = ColumnTransformer(\n",
        "    [\n",
        "        (\"ohe\", OneHotEncoder(), [1]) #tupla identificativa, ultimo parametro è la lista delle colonne\n",
        "    ],\n",
        "    remainder = \"passthrough\" #per mantenere colonne non modificate\n",
        ")\n",
        "\n",
        "X = transf.fit_transform(X) #array numpy trasformato\n",
        "X"
      ],
      "metadata": {
        "id": "BGBFpmxw41rp"
      },
      "execution_count": null,
      "outputs": []
    },
    {
      "cell_type": "markdown",
      "source": [
        "*Label encoding*\n",
        "\n",
        "Codificare variabile target che si presenta come stringa"
      ],
      "metadata": {
        "id": "rqR_JG7i7XZV"
      }
    },
    {
      "cell_type": "markdown",
      "source": [
        "\n",
        "*   pandas (come ordinal encoding sopra, assegnando valori 1 e 0)"
      ],
      "metadata": {
        "id": "TDaikDz_7zIy"
      }
    },
    {
      "cell_type": "code",
      "source": [
        "df = pd.read_csv(BASE_URL+\"shirts_sold.csv\", index_col=0)\n",
        "\n",
        "size_mapping = {\"SI\":1, \"NO\":0}\n",
        "df[\"venduta\"] = df[\"venduta\"].map(size_mapping)\n",
        "df.head()"
      ],
      "metadata": {
        "id": "jM8mjrAh9Lm7"
      },
      "execution_count": null,
      "outputs": []
    },
    {
      "cell_type": "markdown",
      "source": [
        "*  numpy"
      ],
      "metadata": {
        "id": "eVs3hluD7_Ao"
      }
    },
    {
      "cell_type": "code",
      "source": [
        "df = pd.read_csv(BASE_URL+\"shirts_sold.csv\", index_col=0)\n",
        "df.head()\n",
        "\n",
        "from sklearn.preprocessing import LabelEncoder\n",
        "\n",
        "le = LabelEncoder()\n",
        "df[\"venduta\"] = le.fit_transform(df[\"venduta\"])\n",
        "print(df.head())\n",
        "\n",
        "le.classes_ #classi usate\n",
        "\n",
        "# è possibile applicare trasformazione inversa...\n",
        "y = [0,1,0,0,1]\n",
        "y = le.inverse_transform(y)\n",
        "print(y)"
      ],
      "metadata": {
        "id": "0ZSLyp_7489A"
      },
      "execution_count": null,
      "outputs": []
    },
    {
      "cell_type": "markdown",
      "source": [
        "*Drop per dati mancanti*"
      ],
      "metadata": {
        "id": "XWglxoDn8L7D"
      }
    },
    {
      "cell_type": "code",
      "source": [
        "df = pd.read_csv(BASE_URL+\"iris_missing.csv\", index_col=0)\n",
        "df.head()\n",
        "\n",
        "df.count() # numero colonne mancano su sepal_width e petal_width\n",
        "print(df.isna().sum()) # numero valori NA per colonna\n",
        "print(df.shape) # numero osservazioni iniziale\n",
        "\n",
        "#rimozione per riga...\n",
        "df_drop = df.copy()\n",
        "df_drop = df_drop.dropna()\n",
        "df_drop.head()\n",
        "print(df_drop.shape)\n",
        "\n",
        "# - usare \"how\" = all per rimuovere righe con tutte colonne vuote...\n",
        "# - usare \"subset\" = ... per rimuovere righe quella colonna vuote...\n",
        "df_drop = df_drop.dropna(subset=[\"sepal_width\"])\n",
        "\n",
        "#rimozione per colonna, possibile indicare soglia minima...\n",
        "df_drop = df.copy()\n",
        "df_drop = df_drop.dropna(axis=1, thresh=145)\n",
        "print(df_drop.shape)\n",
        "\n",
        "# - per calcolare percentuale al 90% del numero osservazioni:\n",
        "thresh = int(df.shape[0]*0.9)"
      ],
      "metadata": {
        "id": "TRYXfs2r92iC"
      },
      "execution_count": null,
      "outputs": []
    },
    {
      "cell_type": "markdown",
      "source": [
        "*Imputazione dei dati feature mancanti, cioè sostituire NA (media, mediana, moda)*"
      ],
      "metadata": {
        "id": "MtezqQTS91XZ"
      }
    },
    {
      "cell_type": "markdown",
      "source": [
        "*  pandas (su singola colonna)"
      ],
      "metadata": {
        "id": "3dyQp_DWAwFW"
      }
    },
    {
      "cell_type": "code",
      "source": [
        "df = pd.read_csv(BASE_URL+\"iris_missing.csv\", index_col=0)\n",
        "df.head()\n",
        "\n",
        "df_imp = df.copy()\n",
        "\n",
        "col = \"sepal_width\"\n",
        "replace_with = round(df_imp[col].mean(), 1)\n",
        "# - si poteva fare anche con la median\n",
        "# - si poteva fare anche con la moda, prendendo il più frequente\n",
        "#   replace_with = round(df_imp[col].mode()[0], 1)\n",
        "\n",
        "df_imp[col] = df_imp[col].fillna(replace_with)\n",
        "df_imp.head()\n",
        "print(df_imp.isna().sum()) # ora gli NA sono zero per la colonna"
      ],
      "metadata": {
        "id": "bJoHTnwBAt1Q"
      },
      "execution_count": null,
      "outputs": []
    },
    {
      "cell_type": "markdown",
      "source": [
        "*  pandas (su più colonne)"
      ],
      "metadata": {
        "id": "U50mgSdgCmHF"
      }
    },
    {
      "cell_type": "code",
      "source": [
        "df = pd.read_csv(BASE_URL+\"iris_missing.csv\", index_col=0)\n",
        "df.head()\n",
        "\n",
        "df_imp = df.copy()\n",
        "\n",
        "replace_with = round(df_imp.mean(numeric_only=True), 1) #series con valori medi per colonna\n",
        "df_imp = df_imp.fillna(replace_with)\n",
        "df_imp.head()\n",
        "print(df_imp.isna().sum()) # tutti gli NA sono zero"
      ],
      "metadata": {
        "id": "rFATylf1B3hh"
      },
      "execution_count": null,
      "outputs": []
    },
    {
      "cell_type": "markdown",
      "source": [
        "*  numpy e scikit-learn"
      ],
      "metadata": {
        "id": "Vkvufb_lDAXa"
      }
    },
    {
      "cell_type": "code",
      "source": [
        "from sklearn.impute import SimpleImputer\n",
        "\n",
        "df = pd.read_csv(BASE_URL+\"iris_missing.csv\", index_col=0)\n",
        "\n",
        "X = df.drop(\"species\", axis=1).values #si rimuove variabile target, che non va adeguata..\n",
        "X.shape\n",
        "\n",
        "imp = SimpleImputer(strategy=\"mean\")\n",
        "X_imp = imp.fit_transform(X)\n",
        "X_imp[:5]\n",
        "np.isnan(X).sum(axis=0)\n",
        "np.isnan(X_imp).sum(axis=0) #valori NaN per asse colonna"
      ],
      "metadata": {
        "id": "d6WCTEIKDHFy"
      },
      "execution_count": null,
      "outputs": []
    },
    {
      "cell_type": "markdown",
      "source": [
        "*Normalizzazione*\n",
        "\n",
        "x-min(x) / max(x) - min(x)"
      ],
      "metadata": {
        "id": "9BwyruQFDov6"
      }
    },
    {
      "cell_type": "markdown",
      "source": [
        "*  pandas"
      ],
      "metadata": {
        "id": "ahtWGv2mGtZx"
      }
    },
    {
      "cell_type": "code",
      "source": [
        "df = pd.read_csv(BASE_URL+\"wine.csv\", usecols=[0,1,7]) #usiamo solo alcune featues per l'esercizio\n",
        "df.head()\n",
        "\n",
        "df_norm = df.copy()\n",
        "features = [\"alcol\", \"flavonoidi\"] #escludiamo il target che è classe, che non ha senso normalizzare\n",
        "to_norm = df_norm[features]\n",
        "df_norm[features] = (to_norm-to_norm.min()) / (to_norm.max()-to_norm.min())\n",
        "df_norm.head() #così abbiamo tutto tra min 0 e max 1"
      ],
      "metadata": {
        "id": "s8G8MRdFEnUs"
      },
      "execution_count": null,
      "outputs": []
    },
    {
      "cell_type": "markdown",
      "source": [
        "*  numpy e scikit-learn"
      ],
      "metadata": {
        "id": "wwFtJkdAHenB"
      }
    },
    {
      "cell_type": "code",
      "source": [
        "from sklearn.preprocessing import MinMaxScaler\n",
        "\n",
        "df = pd.read_csv(BASE_URL+\"wine.csv\", usecols=[0,1,7]) #usiamo solo alcune featues per l'esercizio\n",
        "X = df.drop(\"classe\", axis=1).values #rimuoviamo colonna target\n",
        "X.shape\n",
        "\n",
        "mms = MinMaxScaler()\n",
        "X_norm = mms.fit_transform(X)\n",
        "X_norm[:5] #così abbiamo tutto tra min 0 e max 1"
      ],
      "metadata": {
        "id": "O33ZygUzHXde"
      },
      "execution_count": null,
      "outputs": []
    },
    {
      "cell_type": "markdown",
      "source": [
        "*Standardizzazione*\n",
        "\n",
        "x-mean(x) / sd(x)"
      ],
      "metadata": {
        "id": "rI7rCU21IVK7"
      }
    },
    {
      "cell_type": "markdown",
      "source": [
        "*  pandas"
      ],
      "metadata": {
        "id": "QORIsQMiIas9"
      }
    },
    {
      "cell_type": "code",
      "source": [
        "df = pd.read_csv(BASE_URL+\"wine.csv\", usecols=[0,1,7]) #usiamo solo alcune featues per l'esercizio\n",
        "df.head()\n",
        "\n",
        "df_std = df.copy()\n",
        "features = [\"alcol\", \"flavonoidi\"] #escludiamo il target che è classe, che non ha senso standardizzare\n",
        "to_std = df_std[features]\n",
        "\n",
        "df_std[features] = (to_std - to_std.mean()) / to_std.std(ddof=0) #ddof per non fare -1 (std campionaria) ma della popolazione (come numpy)\n",
        "df_std.head() #infatti la media è quasi uguale a zero e la deviazione standard prossima a 1"
      ],
      "metadata": {
        "colab": {
          "base_uri": "https://localhost:8080/",
          "height": 206
        },
        "id": "TmV7yw6sH0tk",
        "outputId": "754d2dff-eb5c-4a13-8873-d3e00b31e07f"
      },
      "execution_count": 67,
      "outputs": [
        {
          "output_type": "execute_result",
          "data": {
            "text/plain": [
              "   classe     alcol  flavonoidi\n",
              "0       1  1.514341    1.031908\n",
              "1       1  0.245597    0.731565\n",
              "2       1  0.196325    1.212114\n",
              "3       1  1.686791    1.462399\n",
              "4       1  0.294868    0.661485"
            ],
            "text/html": [
              "\n",
              "  <div id=\"df-b52af0ed-c950-4881-8dea-093d5bec4187\" class=\"colab-df-container\">\n",
              "    <div>\n",
              "<style scoped>\n",
              "    .dataframe tbody tr th:only-of-type {\n",
              "        vertical-align: middle;\n",
              "    }\n",
              "\n",
              "    .dataframe tbody tr th {\n",
              "        vertical-align: top;\n",
              "    }\n",
              "\n",
              "    .dataframe thead th {\n",
              "        text-align: right;\n",
              "    }\n",
              "</style>\n",
              "<table border=\"1\" class=\"dataframe\">\n",
              "  <thead>\n",
              "    <tr style=\"text-align: right;\">\n",
              "      <th></th>\n",
              "      <th>classe</th>\n",
              "      <th>alcol</th>\n",
              "      <th>flavonoidi</th>\n",
              "    </tr>\n",
              "  </thead>\n",
              "  <tbody>\n",
              "    <tr>\n",
              "      <th>0</th>\n",
              "      <td>1</td>\n",
              "      <td>1.514341</td>\n",
              "      <td>1.031908</td>\n",
              "    </tr>\n",
              "    <tr>\n",
              "      <th>1</th>\n",
              "      <td>1</td>\n",
              "      <td>0.245597</td>\n",
              "      <td>0.731565</td>\n",
              "    </tr>\n",
              "    <tr>\n",
              "      <th>2</th>\n",
              "      <td>1</td>\n",
              "      <td>0.196325</td>\n",
              "      <td>1.212114</td>\n",
              "    </tr>\n",
              "    <tr>\n",
              "      <th>3</th>\n",
              "      <td>1</td>\n",
              "      <td>1.686791</td>\n",
              "      <td>1.462399</td>\n",
              "    </tr>\n",
              "    <tr>\n",
              "      <th>4</th>\n",
              "      <td>1</td>\n",
              "      <td>0.294868</td>\n",
              "      <td>0.661485</td>\n",
              "    </tr>\n",
              "  </tbody>\n",
              "</table>\n",
              "</div>\n",
              "    <div class=\"colab-df-buttons\">\n",
              "\n",
              "  <div class=\"colab-df-container\">\n",
              "    <button class=\"colab-df-convert\" onclick=\"convertToInteractive('df-b52af0ed-c950-4881-8dea-093d5bec4187')\"\n",
              "            title=\"Convert this dataframe to an interactive table.\"\n",
              "            style=\"display:none;\">\n",
              "\n",
              "  <svg xmlns=\"http://www.w3.org/2000/svg\" height=\"24px\" viewBox=\"0 -960 960 960\">\n",
              "    <path d=\"M120-120v-720h720v720H120Zm60-500h600v-160H180v160Zm220 220h160v-160H400v160Zm0 220h160v-160H400v160ZM180-400h160v-160H180v160Zm440 0h160v-160H620v160ZM180-180h160v-160H180v160Zm440 0h160v-160H620v160Z\"/>\n",
              "  </svg>\n",
              "    </button>\n",
              "\n",
              "  <style>\n",
              "    .colab-df-container {\n",
              "      display:flex;\n",
              "      gap: 12px;\n",
              "    }\n",
              "\n",
              "    .colab-df-convert {\n",
              "      background-color: #E8F0FE;\n",
              "      border: none;\n",
              "      border-radius: 50%;\n",
              "      cursor: pointer;\n",
              "      display: none;\n",
              "      fill: #1967D2;\n",
              "      height: 32px;\n",
              "      padding: 0 0 0 0;\n",
              "      width: 32px;\n",
              "    }\n",
              "\n",
              "    .colab-df-convert:hover {\n",
              "      background-color: #E2EBFA;\n",
              "      box-shadow: 0px 1px 2px rgba(60, 64, 67, 0.3), 0px 1px 3px 1px rgba(60, 64, 67, 0.15);\n",
              "      fill: #174EA6;\n",
              "    }\n",
              "\n",
              "    .colab-df-buttons div {\n",
              "      margin-bottom: 4px;\n",
              "    }\n",
              "\n",
              "    [theme=dark] .colab-df-convert {\n",
              "      background-color: #3B4455;\n",
              "      fill: #D2E3FC;\n",
              "    }\n",
              "\n",
              "    [theme=dark] .colab-df-convert:hover {\n",
              "      background-color: #434B5C;\n",
              "      box-shadow: 0px 1px 3px 1px rgba(0, 0, 0, 0.15);\n",
              "      filter: drop-shadow(0px 1px 2px rgba(0, 0, 0, 0.3));\n",
              "      fill: #FFFFFF;\n",
              "    }\n",
              "  </style>\n",
              "\n",
              "    <script>\n",
              "      const buttonEl =\n",
              "        document.querySelector('#df-b52af0ed-c950-4881-8dea-093d5bec4187 button.colab-df-convert');\n",
              "      buttonEl.style.display =\n",
              "        google.colab.kernel.accessAllowed ? 'block' : 'none';\n",
              "\n",
              "      async function convertToInteractive(key) {\n",
              "        const element = document.querySelector('#df-b52af0ed-c950-4881-8dea-093d5bec4187');\n",
              "        const dataTable =\n",
              "          await google.colab.kernel.invokeFunction('convertToInteractive',\n",
              "                                                    [key], {});\n",
              "        if (!dataTable) return;\n",
              "\n",
              "        const docLinkHtml = 'Like what you see? Visit the ' +\n",
              "          '<a target=\"_blank\" href=https://colab.research.google.com/notebooks/data_table.ipynb>data table notebook</a>'\n",
              "          + ' to learn more about interactive tables.';\n",
              "        element.innerHTML = '';\n",
              "        dataTable['output_type'] = 'display_data';\n",
              "        await google.colab.output.renderOutput(dataTable, element);\n",
              "        const docLink = document.createElement('div');\n",
              "        docLink.innerHTML = docLinkHtml;\n",
              "        element.appendChild(docLink);\n",
              "      }\n",
              "    </script>\n",
              "  </div>\n",
              "\n",
              "\n",
              "<div id=\"df-6ae6b461-eb38-4fe6-9d1d-137b314572f4\">\n",
              "  <button class=\"colab-df-quickchart\" onclick=\"quickchart('df-6ae6b461-eb38-4fe6-9d1d-137b314572f4')\"\n",
              "            title=\"Suggest charts\"\n",
              "            style=\"display:none;\">\n",
              "\n",
              "<svg xmlns=\"http://www.w3.org/2000/svg\" height=\"24px\"viewBox=\"0 0 24 24\"\n",
              "     width=\"24px\">\n",
              "    <g>\n",
              "        <path d=\"M19 3H5c-1.1 0-2 .9-2 2v14c0 1.1.9 2 2 2h14c1.1 0 2-.9 2-2V5c0-1.1-.9-2-2-2zM9 17H7v-7h2v7zm4 0h-2V7h2v10zm4 0h-2v-4h2v4z\"/>\n",
              "    </g>\n",
              "</svg>\n",
              "  </button>\n",
              "\n",
              "<style>\n",
              "  .colab-df-quickchart {\n",
              "      --bg-color: #E8F0FE;\n",
              "      --fill-color: #1967D2;\n",
              "      --hover-bg-color: #E2EBFA;\n",
              "      --hover-fill-color: #174EA6;\n",
              "      --disabled-fill-color: #AAA;\n",
              "      --disabled-bg-color: #DDD;\n",
              "  }\n",
              "\n",
              "  [theme=dark] .colab-df-quickchart {\n",
              "      --bg-color: #3B4455;\n",
              "      --fill-color: #D2E3FC;\n",
              "      --hover-bg-color: #434B5C;\n",
              "      --hover-fill-color: #FFFFFF;\n",
              "      --disabled-bg-color: #3B4455;\n",
              "      --disabled-fill-color: #666;\n",
              "  }\n",
              "\n",
              "  .colab-df-quickchart {\n",
              "    background-color: var(--bg-color);\n",
              "    border: none;\n",
              "    border-radius: 50%;\n",
              "    cursor: pointer;\n",
              "    display: none;\n",
              "    fill: var(--fill-color);\n",
              "    height: 32px;\n",
              "    padding: 0;\n",
              "    width: 32px;\n",
              "  }\n",
              "\n",
              "  .colab-df-quickchart:hover {\n",
              "    background-color: var(--hover-bg-color);\n",
              "    box-shadow: 0 1px 2px rgba(60, 64, 67, 0.3), 0 1px 3px 1px rgba(60, 64, 67, 0.15);\n",
              "    fill: var(--button-hover-fill-color);\n",
              "  }\n",
              "\n",
              "  .colab-df-quickchart-complete:disabled,\n",
              "  .colab-df-quickchart-complete:disabled:hover {\n",
              "    background-color: var(--disabled-bg-color);\n",
              "    fill: var(--disabled-fill-color);\n",
              "    box-shadow: none;\n",
              "  }\n",
              "\n",
              "  .colab-df-spinner {\n",
              "    border: 2px solid var(--fill-color);\n",
              "    border-color: transparent;\n",
              "    border-bottom-color: var(--fill-color);\n",
              "    animation:\n",
              "      spin 1s steps(1) infinite;\n",
              "  }\n",
              "\n",
              "  @keyframes spin {\n",
              "    0% {\n",
              "      border-color: transparent;\n",
              "      border-bottom-color: var(--fill-color);\n",
              "      border-left-color: var(--fill-color);\n",
              "    }\n",
              "    20% {\n",
              "      border-color: transparent;\n",
              "      border-left-color: var(--fill-color);\n",
              "      border-top-color: var(--fill-color);\n",
              "    }\n",
              "    30% {\n",
              "      border-color: transparent;\n",
              "      border-left-color: var(--fill-color);\n",
              "      border-top-color: var(--fill-color);\n",
              "      border-right-color: var(--fill-color);\n",
              "    }\n",
              "    40% {\n",
              "      border-color: transparent;\n",
              "      border-right-color: var(--fill-color);\n",
              "      border-top-color: var(--fill-color);\n",
              "    }\n",
              "    60% {\n",
              "      border-color: transparent;\n",
              "      border-right-color: var(--fill-color);\n",
              "    }\n",
              "    80% {\n",
              "      border-color: transparent;\n",
              "      border-right-color: var(--fill-color);\n",
              "      border-bottom-color: var(--fill-color);\n",
              "    }\n",
              "    90% {\n",
              "      border-color: transparent;\n",
              "      border-bottom-color: var(--fill-color);\n",
              "    }\n",
              "  }\n",
              "</style>\n",
              "\n",
              "  <script>\n",
              "    async function quickchart(key) {\n",
              "      const quickchartButtonEl =\n",
              "        document.querySelector('#' + key + ' button');\n",
              "      quickchartButtonEl.disabled = true;  // To prevent multiple clicks.\n",
              "      quickchartButtonEl.classList.add('colab-df-spinner');\n",
              "      try {\n",
              "        const charts = await google.colab.kernel.invokeFunction(\n",
              "            'suggestCharts', [key], {});\n",
              "      } catch (error) {\n",
              "        console.error('Error during call to suggestCharts:', error);\n",
              "      }\n",
              "      quickchartButtonEl.classList.remove('colab-df-spinner');\n",
              "      quickchartButtonEl.classList.add('colab-df-quickchart-complete');\n",
              "    }\n",
              "    (() => {\n",
              "      let quickchartButtonEl =\n",
              "        document.querySelector('#df-6ae6b461-eb38-4fe6-9d1d-137b314572f4 button');\n",
              "      quickchartButtonEl.style.display =\n",
              "        google.colab.kernel.accessAllowed ? 'block' : 'none';\n",
              "    })();\n",
              "  </script>\n",
              "</div>\n",
              "    </div>\n",
              "  </div>\n"
            ],
            "application/vnd.google.colaboratory.intrinsic+json": {
              "type": "dataframe",
              "variable_name": "df_std",
              "summary": "{\n  \"name\": \"df_std\",\n  \"rows\": 178,\n  \"fields\": [\n    {\n      \"column\": \"classe\",\n      \"properties\": {\n        \"dtype\": \"number\",\n        \"std\": 0,\n        \"min\": 1,\n        \"max\": 3,\n        \"num_unique_values\": 3,\n        \"samples\": [\n          1,\n          2,\n          3\n        ],\n        \"semantic_type\": \"\",\n        \"description\": \"\"\n      }\n    },\n    {\n      \"column\": \"alcol\",\n      \"properties\": {\n        \"dtype\": \"number\",\n        \"std\": 1.0,\n        \"min\": -2.4273879767082374,\n        \"max\": 2.2534149067922074,\n        \"num_unique_values\": 126,\n        \"samples\": [\n          -1.7006317395331685,\n          0.7875845301170689,\n          0.8491740417420733\n        ],\n        \"semantic_type\": \"\",\n        \"description\": \"\"\n      }\n    },\n    {\n      \"column\": \"flavonoidi\",\n      \"properties\": {\n        \"dtype\": \"number\",\n        \"std\": 1.0,\n        \"min\": -1.6911998546548037,\n        \"max\": 3.0542161597432496,\n        \"num_unique_values\": 132,\n        \"samples\": [\n          1.1520451835077432,\n          0.47126820253924595,\n          1.1420337573170298\n        ],\n        \"semantic_type\": \"\",\n        \"description\": \"\"\n      }\n    }\n  ]\n}"
            }
          },
          "metadata": {},
          "execution_count": 67
        }
      ]
    },
    {
      "cell_type": "markdown",
      "source": [
        "*  scikit-learn"
      ],
      "metadata": {
        "id": "w9MmJEMpJQoO"
      }
    },
    {
      "cell_type": "code",
      "source": [
        "from sklearn.preprocessing import StandardScaler\n",
        "\n",
        "df = pd.read_csv(BASE_URL+\"wine.csv\", usecols=[0,1,7]) #usiamo solo alcune featues per l'esercizio\n",
        "X = df.drop(\"classe\", axis=1).values #rimuoviamo colonna target\n",
        "X.shape\n",
        "\n",
        "ss = StandardScaler()\n",
        "X_std = ss.fit_transform(X)\n",
        "X_std[:5]\n",
        "print(X_std.mean()) # prossimo zero\n",
        "print(X_std.std()) # prossimo a 1"
      ],
      "metadata": {
        "colab": {
          "base_uri": "https://localhost:8080/"
        },
        "id": "3qK-F-yZJUri",
        "outputId": "47a8717f-a26e-48ea-e246-926d2fc9c3ad"
      },
      "execution_count": 71,
      "outputs": [
        {
          "output_type": "stream",
          "name": "stdout",
          "text": [
            "-6.187310339484019e-16\n",
            "1.0\n"
          ]
        }
      ]
    },
    {
      "cell_type": "code",
      "source": [],
      "metadata": {
        "id": "VMwv43jVI9Pu"
      },
      "execution_count": null,
      "outputs": []
    }
  ]
}